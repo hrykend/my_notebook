{
 "cells": [
  {
   "cell_type": "code",
   "execution_count": 1,
   "metadata": {},
   "outputs": [
    {
     "name": "stdout",
     "output_type": "stream",
     "text": [
      "['c', 'd']\n"
     ]
    }
   ],
   "source": [
    "arr = ['a', 'b', 'c', 'd', 'e']\n",
    "print(arr[2:4])\n"
   ]
  },
  {
   "cell_type": "code",
   "execution_count": 2,
   "metadata": {},
   "outputs": [
    {
     "name": "stdout",
     "output_type": "stream",
     "text": [
      "['c', 'd', 'e']\n",
      "['c', 'd', 'e']\n"
     ]
    }
   ],
   "source": [
    "arr = ['a', 'b', 'c', 'd', 'e']\n",
    "print(arr[2:5])\n",
    "print(arr[2:])\n"
   ]
  },
  {
   "cell_type": "code",
   "execution_count": 3,
   "metadata": {},
   "outputs": [
    {
     "name": "stdout",
     "output_type": "stream",
     "text": [
      "cd\n"
     ]
    }
   ],
   "source": [
    "str = \"abcde\"\n",
    "print(str[2:4])"
   ]
  },
  {
   "cell_type": "code",
   "execution_count": 4,
   "metadata": {},
   "outputs": [
    {
     "name": "stdout",
     "output_type": "stream",
     "text": [
      "['c' 'd' 'e']\n",
      "['a' 'b' 'c' 'd']\n",
      "['c' 'd' 'e']\n"
     ]
    }
   ],
   "source": [
    "import numpy as np\n",
    "\n",
    "arr = np.array(['a','b','c','d','e'])\n",
    "print(arr[2:5])\n",
    "print(arr[:4])\n",
    "print(arr[2:])"
   ]
  },
  {
   "cell_type": "code",
   "execution_count": 5,
   "metadata": {},
   "outputs": [
    {
     "name": "stdout",
     "output_type": "stream",
     "text": [
      "[['y2']]\n"
     ]
    }
   ],
   "source": [
    "import numpy as np\n",
    "\n",
    "arr = np.array([\n",
    "    ['x1', 'y1', 'z1'],\n",
    "    ['x2', 'y2', 'z2'],\n",
    "    ['x3', 'y3', 'z3']\n",
    "])\n",
    "print(arr[1:2,1:2])"
   ]
  },
  {
   "cell_type": "code",
   "execution_count": 6,
   "metadata": {},
   "outputs": [
    {
     "name": "stdout",
     "output_type": "stream",
     "text": [
      "[['z2']]\n"
     ]
    }
   ],
   "source": [
    "import numpy as np\n",
    "\n",
    "arr = np.array([\n",
    "    ['x1', 'y1', 'z1'],\n",
    "    ['x2', 'y2', 'z2'],\n",
    "    ['x3', 'y3', 'z3']\n",
    "])\n",
    "print(arr[1:2,2:3])"
   ]
  },
  {
   "cell_type": "code",
   "execution_count": 8,
   "metadata": {},
   "outputs": [
    {
     "name": "stdout",
     "output_type": "stream",
     "text": [
      "This is sample text.\n",
      "Can you see me?\n",
      "\n"
     ]
    }
   ],
   "source": [
    "# 読込むファイルのパスを宣言する\n",
    "file_name = \"./data.txt\"\n",
    "\n",
    "try:\n",
    "    file = open(file_name)\n",
    "    data = file.read()\n",
    "    print(data)\n",
    "except Exception as e:\n",
    "    print(e)\n",
    "finally:\n",
    "    file.close()"
   ]
  },
  {
   "cell_type": "code",
   "execution_count": 11,
   "metadata": {},
   "outputs": [
    {
     "name": "stdout",
     "output_type": "stream",
     "text": [
      "This is sample text.\n",
      "Can you see me?\n",
      "\n"
     ]
    }
   ],
   "source": [
    "# 読込むファイルのパスを宣言する\n",
    "file_name = \"./documents/data.txt\"\n",
    "\n",
    "try:\n",
    "    file = open(file_name)\n",
    "    data = file.read()\n",
    "    print(data)\n",
    "except Exception as e:\n",
    "    print(e)\n",
    "finally:\n",
    "    file.close()"
   ]
  },
  {
   "cell_type": "code",
   "execution_count": 12,
   "metadata": {},
   "outputs": [],
   "source": [
    "# 書き込むファイルのパスを宣言する\n",
    "file_name = \"./data2.txt\"\n",
    "\n",
    "try:\n",
    "    file = open(file_name, 'w')\n",
    "    file.write(\"This is new data\")\n",
    "except Exception as e:\n",
    "    print(e)\n",
    "finally:\n",
    "    file.close()"
   ]
  },
  {
   "cell_type": "code",
   "execution_count": 14,
   "metadata": {},
   "outputs": [
    {
     "name": "stdout",
     "output_type": "stream",
     "text": [
      "10.0\n",
      "else statement\n",
      "finally statement\n"
     ]
    }
   ],
   "source": [
    "try:\n",
    "#    a = 10 / 0\n",
    "    a = 10 / 1\n",
    "    print(\"{0}\".format(a))\n",
    "except ZeroDivisionError as e:\n",
    "    print(\"ZeroDivisionError!!\")\n",
    "else:\n",
    "    print(\"else statement\")\n",
    "finally:\n",
    "    print(\"finally statement\")"
   ]
  },
  {
   "cell_type": "code",
   "execution_count": null,
   "metadata": {},
   "outputs": [],
   "source": []
  }
 ],
 "metadata": {
  "kernelspec": {
   "display_name": "Python 3",
   "language": "python",
   "name": "python3"
  },
  "language_info": {
   "codemirror_mode": {
    "name": "ipython",
    "version": 3
   },
   "file_extension": ".py",
   "mimetype": "text/x-python",
   "name": "python",
   "nbconvert_exporter": "python",
   "pygments_lexer": "ipython3",
   "version": "3.6.4"
  }
 },
 "nbformat": 4,
 "nbformat_minor": 2
}
